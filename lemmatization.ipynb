{
 "cells": [
  {
   "attachments": {},
   "cell_type": "markdown",
   "metadata": {},
   "source": [
    "# importing the libraries"
   ]
  },
  {
   "cell_type": "code",
   "execution_count": 1,
   "metadata": {},
   "outputs": [],
   "source": [
    "import numpy as np\n",
    "import pandas as pd \n",
    "import matplotlib.pyplot as plt"
   ]
  },
  {
   "attachments": {},
   "cell_type": "markdown",
   "metadata": {},
   "source": [
    "# immporting the data set"
   ]
  },
  {
   "cell_type": "code",
   "execution_count": 2,
   "metadata": {},
   "outputs": [],
   "source": [
    "content_df = pd.read_csv(r\"D:\\work\\natural language processing\\content.csv\")"
   ]
  },
  {
   "cell_type": "code",
   "execution_count": 3,
   "metadata": {},
   "outputs": [],
   "source": [
    "import nltk"
   ]
  },
  {
   "cell_type": "code",
   "execution_count": 4,
   "metadata": {},
   "outputs": [
    {
     "data": {
      "text/html": [
       "<div>\n",
       "<style scoped>\n",
       "    .dataframe tbody tr th:only-of-type {\n",
       "        vertical-align: middle;\n",
       "    }\n",
       "\n",
       "    .dataframe tbody tr th {\n",
       "        vertical-align: top;\n",
       "    }\n",
       "\n",
       "    .dataframe thead th {\n",
       "        text-align: right;\n",
       "    }\n",
       "</style>\n",
       "<table border=\"1\" class=\"dataframe\">\n",
       "  <thead>\n",
       "    <tr style=\"text-align: right;\">\n",
       "      <th></th>\n",
       "      <th>id</th>\n",
       "      <th>title</th>\n",
       "      <th>description</th>\n",
       "      <th>kind</th>\n",
       "      <th>text</th>\n",
       "      <th>language</th>\n",
       "      <th>copyright_holder</th>\n",
       "      <th>license</th>\n",
       "    </tr>\n",
       "  </thead>\n",
       "  <tbody>\n",
       "    <tr>\n",
       "      <th>0</th>\n",
       "      <td>c_00002381196d</td>\n",
       "      <td>Sumar números de varios dígitos: 48,029+233,930</td>\n",
       "      <td>Suma 48,029+233,930 mediante el algoritmo está...</td>\n",
       "      <td>video</td>\n",
       "      <td>NaN</td>\n",
       "      <td>es</td>\n",
       "      <td>NaN</td>\n",
       "      <td>NaN</td>\n",
       "    </tr>\n",
       "    <tr>\n",
       "      <th>1</th>\n",
       "      <td>c_000087304a9e</td>\n",
       "      <td>Trovare i fattori di un numero</td>\n",
       "      <td>Sal trova i fattori di 120.\\n\\n</td>\n",
       "      <td>video</td>\n",
       "      <td>NaN</td>\n",
       "      <td>it</td>\n",
       "      <td>NaN</td>\n",
       "      <td>NaN</td>\n",
       "    </tr>\n",
       "    <tr>\n",
       "      <th>2</th>\n",
       "      <td>c_0000ad142ddb</td>\n",
       "      <td>Sumar curvas de demanda</td>\n",
       "      <td>Cómo añadir curvas de demanda\\n\\n</td>\n",
       "      <td>video</td>\n",
       "      <td>NaN</td>\n",
       "      <td>es</td>\n",
       "      <td>NaN</td>\n",
       "      <td>NaN</td>\n",
       "    </tr>\n",
       "    <tr>\n",
       "      <th>3</th>\n",
       "      <td>c_0000c03adc8d</td>\n",
       "      <td>Nado de aproximação</td>\n",
       "      <td>Neste vídeo você vai aprender o nado de aproxi...</td>\n",
       "      <td>document</td>\n",
       "      <td>\\nNado de aproximação\\nSaber nadar nas ondas ...</td>\n",
       "      <td>pt</td>\n",
       "      <td>Sikana Education</td>\n",
       "      <td>CC BY-NC-ND</td>\n",
       "    </tr>\n",
       "    <tr>\n",
       "      <th>4</th>\n",
       "      <td>c_00016694ea2a</td>\n",
       "      <td>geometry-m3-topic-a-overview.pdf</td>\n",
       "      <td>geometry-m3-topic-a-overview.pdf</td>\n",
       "      <td>document</td>\n",
       "      <td>Estándares Comunes del Estado de Nueva York\\n\\...</td>\n",
       "      <td>es</td>\n",
       "      <td>Engage NY</td>\n",
       "      <td>CC BY-NC-SA</td>\n",
       "    </tr>\n",
       "    <tr>\n",
       "      <th>...</th>\n",
       "      <td>...</td>\n",
       "      <td>...</td>\n",
       "      <td>...</td>\n",
       "      <td>...</td>\n",
       "      <td>...</td>\n",
       "      <td>...</td>\n",
       "      <td>...</td>\n",
       "      <td>...</td>\n",
       "    </tr>\n",
       "    <tr>\n",
       "      <th>154042</th>\n",
       "      <td>c_fffcbdd4de8b</td>\n",
       "      <td>2. 12: Diffusion</td>\n",
       "      <td>NaN</td>\n",
       "      <td>html5</td>\n",
       "      <td>What will eventually happen to these dyes?\\n\\n...</td>\n",
       "      <td>en</td>\n",
       "      <td>CSU and Merlot</td>\n",
       "      <td>CC BY-NC-SA</td>\n",
       "    </tr>\n",
       "    <tr>\n",
       "      <th>154043</th>\n",
       "      <td>c_fffe15a2d069</td>\n",
       "      <td>Sommare facendo gruppi da 10</td>\n",
       "      <td>Sal somma 5+68 spezzando il 5 in un 2 e un 3.\\n\\n</td>\n",
       "      <td>video</td>\n",
       "      <td>NaN</td>\n",
       "      <td>it</td>\n",
       "      <td>NaN</td>\n",
       "      <td>NaN</td>\n",
       "    </tr>\n",
       "    <tr>\n",
       "      <th>154044</th>\n",
       "      <td>c_fffed7b0d13a</td>\n",
       "      <td>Introdução à subtração</td>\n",
       "      <td>Sal fala sobre o que significa subtrair. Os ex...</td>\n",
       "      <td>video</td>\n",
       "      <td>NaN</td>\n",
       "      <td>pt</td>\n",
       "      <td>NaN</td>\n",
       "      <td>NaN</td>\n",
       "    </tr>\n",
       "    <tr>\n",
       "      <th>154045</th>\n",
       "      <td>c_ffff04ba7ac7</td>\n",
       "      <td>SA of a Cone</td>\n",
       "      <td>NaN</td>\n",
       "      <td>video</td>\n",
       "      <td>NaN</td>\n",
       "      <td>en</td>\n",
       "      <td>NaN</td>\n",
       "      <td>NaN</td>\n",
       "    </tr>\n",
       "    <tr>\n",
       "      <th>154046</th>\n",
       "      <td>c_ffffe5254266</td>\n",
       "      <td>The Jats</td>\n",
       "      <td>NaN</td>\n",
       "      <td>video</td>\n",
       "      <td>NaN</td>\n",
       "      <td>en</td>\n",
       "      <td>NaN</td>\n",
       "      <td>NaN</td>\n",
       "    </tr>\n",
       "  </tbody>\n",
       "</table>\n",
       "<p>154047 rows × 8 columns</p>\n",
       "</div>"
      ],
      "text/plain": [
       "                    id                                             title  \\\n",
       "0       c_00002381196d  Sumar números de varios dígitos: 48,029+233,930    \n",
       "1       c_000087304a9e                    Trovare i fattori di un numero   \n",
       "2       c_0000ad142ddb                           Sumar curvas de demanda   \n",
       "3       c_0000c03adc8d                               Nado de aproximação   \n",
       "4       c_00016694ea2a                  geometry-m3-topic-a-overview.pdf   \n",
       "...                ...                                               ...   \n",
       "154042  c_fffcbdd4de8b                                  2. 12: Diffusion   \n",
       "154043  c_fffe15a2d069                      Sommare facendo gruppi da 10   \n",
       "154044  c_fffed7b0d13a                            Introdução à subtração   \n",
       "154045  c_ffff04ba7ac7                                      SA of a Cone   \n",
       "154046  c_ffffe5254266                                          The Jats   \n",
       "\n",
       "                                              description      kind  \\\n",
       "0       Suma 48,029+233,930 mediante el algoritmo está...     video   \n",
       "1                         Sal trova i fattori di 120.\\n\\n     video   \n",
       "2                       Cómo añadir curvas de demanda\\n\\n     video   \n",
       "3       Neste vídeo você vai aprender o nado de aproxi...  document   \n",
       "4                        geometry-m3-topic-a-overview.pdf  document   \n",
       "...                                                   ...       ...   \n",
       "154042                                                NaN     html5   \n",
       "154043  Sal somma 5+68 spezzando il 5 in un 2 e un 3.\\n\\n     video   \n",
       "154044  Sal fala sobre o que significa subtrair. Os ex...     video   \n",
       "154045                                                NaN     video   \n",
       "154046                                                NaN     video   \n",
       "\n",
       "                                                     text language  \\\n",
       "0                                                     NaN       es   \n",
       "1                                                     NaN       it   \n",
       "2                                                     NaN       es   \n",
       "3       \\nNado de aproximação\\nSaber nadar nas ondas ...       pt   \n",
       "4       Estándares Comunes del Estado de Nueva York\\n\\...       es   \n",
       "...                                                   ...      ...   \n",
       "154042  What will eventually happen to these dyes?\\n\\n...       en   \n",
       "154043                                                NaN       it   \n",
       "154044                                                NaN       pt   \n",
       "154045                                                NaN       en   \n",
       "154046                                                NaN       en   \n",
       "\n",
       "        copyright_holder      license  \n",
       "0                    NaN          NaN  \n",
       "1                    NaN          NaN  \n",
       "2                    NaN          NaN  \n",
       "3       Sikana Education  CC BY-NC-ND  \n",
       "4              Engage NY  CC BY-NC-SA  \n",
       "...                  ...          ...  \n",
       "154042    CSU and Merlot  CC BY-NC-SA  \n",
       "154043               NaN          NaN  \n",
       "154044               NaN          NaN  \n",
       "154045               NaN          NaN  \n",
       "154046               NaN          NaN  \n",
       "\n",
       "[154047 rows x 8 columns]"
      ]
     },
     "execution_count": 4,
     "metadata": {},
     "output_type": "execute_result"
    }
   ],
   "source": [
    "content_df"
   ]
  },
  {
   "cell_type": "code",
   "execution_count": 5,
   "metadata": {},
   "outputs": [],
   "source": [
    "dataset = content_df.fillna('')# filling the null values with the empty striing"
   ]
  },
  {
   "cell_type": "code",
   "execution_count": 6,
   "metadata": {},
   "outputs": [
    {
     "data": {
      "text/plain": [
       "id                  0\n",
       "title               0\n",
       "description         0\n",
       "kind                0\n",
       "text                0\n",
       "language            0\n",
       "copyright_holder    0\n",
       "license             0\n",
       "dtype: int64"
      ]
     },
     "execution_count": 6,
     "metadata": {},
     "output_type": "execute_result"
    }
   ],
   "source": [
    "dataset.isnull().sum()"
   ]
  },
  {
   "cell_type": "code",
   "execution_count": 7,
   "metadata": {},
   "outputs": [],
   "source": [
    "dataset=dataset.iloc[:,2]"
   ]
  },
  {
   "cell_type": "code",
   "execution_count": 8,
   "metadata": {},
   "outputs": [
    {
     "data": {
      "text/plain": [
       "0         Suma 48,029+233,930 mediante el algoritmo está...\n",
       "1                           Sal trova i fattori di 120.\\n\\n\n",
       "2                         Cómo añadir curvas de demanda\\n\\n\n",
       "3         Neste vídeo você vai aprender o nado de aproxi...\n",
       "4                          geometry-m3-topic-a-overview.pdf\n",
       "                                ...                        \n",
       "154042                                                     \n",
       "154043    Sal somma 5+68 spezzando il 5 in un 2 e un 3.\\n\\n\n",
       "154044    Sal fala sobre o que significa subtrair. Os ex...\n",
       "154045                                                     \n",
       "154046                                                     \n",
       "Name: description, Length: 154047, dtype: object"
      ]
     },
     "execution_count": 8,
     "metadata": {},
     "output_type": "execute_result"
    }
   ],
   "source": [
    "dataset"
   ]
  },
  {
   "cell_type": "code",
   "execution_count": 9,
   "metadata": {},
   "outputs": [
    {
     "name": "stderr",
     "output_type": "stream",
     "text": [
      "[nltk_data] Downloading package stopwords to C:\\Users\\RIYAN\n",
      "[nltk_data]     SINGH\\AppData\\Roaming\\nltk_data...\n",
      "[nltk_data]   Package stopwords is already up-to-date!\n"
     ]
    }
   ],
   "source": [
    "import re\n",
    "import nltk \n",
    "nltk.download('stopwords')\n",
    "from nltk.corpus import stopwords\n",
    "from nltk.stem.porter import PorterStemmer\n",
    "corpus =[]# empty list which will store the reviews after the text processing\n",
    "for i in range(len(dataset)):\n",
    "    review = re.sub('[^a-zA-Z]',' ',dataset[i])# this to replace all the non alphabat ie. number, punch mark ,etc replace by space\n",
    "    review = review.lower()# this  line is to convert the text into lower case \n",
    "    review = review.split()# this is used to split the data as we have to perform steming on the datasset \n",
    "    ps = PorterStemmer()\n",
    "    All_stopwords=stopwords.words('english')\n",
    "    All_stopwords.remove('not')# if we want to analise the review of any product then not comes in the stopwords so we are excluding the not because it effects the reviews\n",
    "    review = [ps.stem(word) for word in review if not word in set(All_stopwords)]\n",
    "    review =' '.join(review)\n",
    "    corpus.append(review)"
   ]
  },
  {
   "cell_type": "code",
   "execution_count": null,
   "metadata": {},
   "outputs": [],
   "source": []
  }
 ],
 "metadata": {
  "kernelspec": {
   "display_name": "base",
   "language": "python",
   "name": "python3"
  },
  "language_info": {
   "codemirror_mode": {
    "name": "ipython",
    "version": 3
   },
   "file_extension": ".py",
   "mimetype": "text/x-python",
   "name": "python",
   "nbconvert_exporter": "python",
   "pygments_lexer": "ipython3",
   "version": "3.9.12"
  },
  "orig_nbformat": 4,
  "vscode": {
   "interpreter": {
    "hash": "ad2bdc8ecc057115af97d19610ffacc2b4e99fae6737bb82f5d7fb13d2f2c186"
   }
  }
 },
 "nbformat": 4,
 "nbformat_minor": 2
}
