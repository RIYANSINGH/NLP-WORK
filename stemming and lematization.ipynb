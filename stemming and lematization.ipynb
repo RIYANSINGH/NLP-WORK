{
 "cells": [
  {
   "cell_type": "code",
   "execution_count": 3,
   "metadata": {},
   "outputs": [],
   "source": [
    "import nltk# importting  nltk library"
   ]
  },
  {
   "attachments": {},
   "cell_type": "markdown",
   "metadata": {},
   "source": [
    "taking some random data "
   ]
  },
  {
   "cell_type": "code",
   "execution_count": 4,
   "metadata": {},
   "outputs": [],
   "source": [
    "par=\"\"\"To the people of India, Dr APJ Abdul Kalam is no less than an inspiration. People had a great deal of admiration for him and addressed him as Sir APJ Abdul Kalam. This article consists of 3 types of APJ Abdul Kalam Speech In English For Students. The first one is a Long APJ Abdul Kalam Speech meant for students of class 9th and above. The second one is the usually spoken APJ Abdul Kalam Speech In School for students of class 5th and above while the third one is 10 lines About Abdul Kalam Speech for students of Class 1 and above for easier understanding.\"\"\""
   ]
  },
  {
   "attachments": {},
   "cell_type": "markdown",
   "metadata": {},
   "source": [
    "importing stemmer for steming"
   ]
  },
  {
   "cell_type": "code",
   "execution_count": 5,
   "metadata": {},
   "outputs": [],
   "source": [
    "from nltk.stem import PorterStemmer# THIS IS THE LIBRARY USED FOR STEMMING \n",
    "from nltk.corpus import stopwords# IMPORTING STOP WORDS FOR THE ELEMINATION OF THE STOP WORDS FROM THE PARAGRAPH"
   ]
  },
  {
   "attachments": {},
   "cell_type": "markdown",
   "metadata": {},
   "source": [
    "perfroming the tokkenization"
   ]
  },
  {
   "cell_type": "markdown",
   "metadata": {},
   "source": []
  },
  {
   "cell_type": "code",
   "execution_count": 6,
   "metadata": {},
   "outputs": [
    {
     "data": {
      "text/plain": [
       "['To the people of India, Dr APJ Abdul Kalam is no less than an inspiration.',\n",
       " 'People had a great deal of admiration for him and addressed him as Sir APJ Abdul Kalam.',\n",
       " 'This article consists of 3 types of APJ Abdul Kalam Speech In English For Students.',\n",
       " 'The first one is a Long APJ Abdul Kalam Speech meant for students of class 9th and above.',\n",
       " 'The second one is the usually spoken APJ Abdul Kalam Speech In School for students of class 5th and above while the third one is 10 lines About Abdul Kalam Speech for students of Class 1 and above for easier understanding.']"
      ]
     },
     "execution_count": 6,
     "metadata": {},
     "output_type": "execute_result"
    }
   ],
   "source": [
    "sentences=nltk.sent_tokenize(par)# SENTENCE TOKENZING THE PARAGRAPH\n",
    "sentences"
   ]
  },
  {
   "cell_type": "code",
   "execution_count": 7,
   "metadata": {},
   "outputs": [],
   "source": [
    "stemmer= PorterStemmer()#MAKING OBJECT FOR THE STEMMER"
   ]
  },
  {
   "attachments": {},
   "cell_type": "markdown",
   "metadata": {},
   "source": [
    "performing stemming"
   ]
  },
  {
   "cell_type": "code",
   "execution_count": 8,
   "metadata": {},
   "outputs": [],
   "source": [
    "for i in range(len(sentences)):#  we are iterating over the each word which iis tookenized to perform stemming \n",
    "    words=nltk.word_tokenize(sentences[i])\n",
    "    words=[stemmer.stem(word)for word in words if word not in set(stopwords.words('english'))]# here steming is performed and  the stop words  are removed from the data \n",
    "    sentences[i]=\" \".join(words)"
   ]
  },
  {
   "cell_type": "code",
   "execution_count": 9,
   "metadata": {},
   "outputs": [
    {
     "data": {
      "text/plain": [
       "['to peopl india , dr apj abdul kalam less inspir .',\n",
       " 'peopl great deal admir address sir apj abdul kalam .',\n",
       " 'thi articl consist 3 type apj abdul kalam speech in english for student .',\n",
       " 'the first one long apj abdul kalam speech meant student class 9th .',\n",
       " 'the second one usual spoken apj abdul kalam speech in school student class 5th third one 10 line about abdul kalam speech student class 1 easier understand .']"
      ]
     },
     "execution_count": 9,
     "metadata": {},
     "output_type": "execute_result"
    }
   ],
   "source": [
    "sentences# out got after the stemming"
   ]
  },
  {
   "cell_type": "code",
   "execution_count": null,
   "metadata": {},
   "outputs": [],
   "source": []
  }
 ],
 "metadata": {
  "kernelspec": {
   "display_name": "base",
   "language": "python",
   "name": "python3"
  },
  "language_info": {
   "codemirror_mode": {
    "name": "ipython",
    "version": 3
   },
   "file_extension": ".py",
   "mimetype": "text/x-python",
   "name": "python",
   "nbconvert_exporter": "python",
   "pygments_lexer": "ipython3",
   "version": "3.9.12"
  },
  "orig_nbformat": 4,
  "vscode": {
   "interpreter": {
    "hash": "ad2bdc8ecc057115af97d19610ffacc2b4e99fae6737bb82f5d7fb13d2f2c186"
   }
  }
 },
 "nbformat": 4,
 "nbformat_minor": 2
}
