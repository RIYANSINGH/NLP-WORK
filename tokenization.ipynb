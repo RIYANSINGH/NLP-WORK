{
 "cells": [
  {
   "attachments": {},
   "cell_type": "markdown",
   "metadata": {},
   "source": [
    "# NLTK  IS THE LIBRARY USED IN NATURAL LANGUAGE PROCESSING"
   ]
  },
  {
   "cell_type": "code",
   "execution_count": 1,
   "metadata": {},
   "outputs": [],
   "source": [
    "import nltk \n"
   ]
  },
  {
   "attachments": {},
   "cell_type": "markdown",
   "metadata": {},
   "source": [
    "# IMPORTING SOME TEXT DATA FROM INTERNET\n"
   ]
  },
  {
   "cell_type": "code",
   "execution_count": 2,
   "metadata": {},
   "outputs": [],
   "source": [
    "par=\"\"\"To the people of India, Dr APJ Abdul Kalam is no less than an inspiration. People had a great deal of admiration for him and addressed him as Sir APJ Abdul Kalam. This article consists of 3 types of APJ Abdul Kalam Speech In English For Students. The first one is a Long APJ Abdul Kalam Speech meant for students of class 9th and above. The second one is the usually spoken APJ Abdul Kalam Speech In School for students of class 5th and above while the third one is 10 lines About Abdul Kalam Speech for students of Class 1 and above for easier understanding.\"\"\""
   ]
  },
  {
   "cell_type": "code",
   "execution_count": 3,
   "metadata": {},
   "outputs": [],
   "source": [
    "sent= nltk.sent_tokenize(par)# PERFORMING SENTENCE TOKENIZER WHICH WILL SEPERATE THE  SENTENCES FROM THE PARA"
   ]
  },
  {
   "cell_type": "code",
   "execution_count": 4,
   "metadata": {},
   "outputs": [
    {
     "data": {
      "text/plain": [
       "['To the people of India, Dr APJ Abdul Kalam is no less than an inspiration.',\n",
       " 'People had a great deal of admiration for him and addressed him as Sir APJ Abdul Kalam.',\n",
       " 'This article consists of 3 types of APJ Abdul Kalam Speech In English For Students.',\n",
       " 'The first one is a Long APJ Abdul Kalam Speech meant for students of class 9th and above.',\n",
       " 'The second one is the usually spoken APJ Abdul Kalam Speech In School for students of class 5th and above while the third one is 10 lines About Abdul Kalam Speech for students of Class 1 and above for easier understanding.']"
      ]
     },
     "execution_count": 4,
     "metadata": {},
     "output_type": "execute_result"
    }
   ],
   "source": [
    "sent"
   ]
  },
  {
   "cell_type": "code",
   "execution_count": 5,
   "metadata": {},
   "outputs": [],
   "source": [
    "words=nltk.word_tokenize(par)# THIS WE ARE PERFORMING THE WORD TOKENIZER WHICH SEPERATES THE WORDS FROM THE SENTENCE\n"
   ]
  },
  {
   "cell_type": "code",
   "execution_count": 6,
   "metadata": {},
   "outputs": [
    {
     "data": {
      "text/plain": [
       "['To',\n",
       " 'the',\n",
       " 'people',\n",
       " 'of',\n",
       " 'India',\n",
       " ',',\n",
       " 'Dr',\n",
       " 'APJ',\n",
       " 'Abdul',\n",
       " 'Kalam',\n",
       " 'is',\n",
       " 'no',\n",
       " 'less',\n",
       " 'than',\n",
       " 'an',\n",
       " 'inspiration',\n",
       " '.',\n",
       " 'People',\n",
       " 'had',\n",
       " 'a',\n",
       " 'great',\n",
       " 'deal',\n",
       " 'of',\n",
       " 'admiration',\n",
       " 'for',\n",
       " 'him',\n",
       " 'and',\n",
       " 'addressed',\n",
       " 'him',\n",
       " 'as',\n",
       " 'Sir',\n",
       " 'APJ',\n",
       " 'Abdul',\n",
       " 'Kalam',\n",
       " '.',\n",
       " 'This',\n",
       " 'article',\n",
       " 'consists',\n",
       " 'of',\n",
       " '3',\n",
       " 'types',\n",
       " 'of',\n",
       " 'APJ',\n",
       " 'Abdul',\n",
       " 'Kalam',\n",
       " 'Speech',\n",
       " 'In',\n",
       " 'English',\n",
       " 'For',\n",
       " 'Students',\n",
       " '.',\n",
       " 'The',\n",
       " 'first',\n",
       " 'one',\n",
       " 'is',\n",
       " 'a',\n",
       " 'Long',\n",
       " 'APJ',\n",
       " 'Abdul',\n",
       " 'Kalam',\n",
       " 'Speech',\n",
       " 'meant',\n",
       " 'for',\n",
       " 'students',\n",
       " 'of',\n",
       " 'class',\n",
       " '9th',\n",
       " 'and',\n",
       " 'above',\n",
       " '.',\n",
       " 'The',\n",
       " 'second',\n",
       " 'one',\n",
       " 'is',\n",
       " 'the',\n",
       " 'usually',\n",
       " 'spoken',\n",
       " 'APJ',\n",
       " 'Abdul',\n",
       " 'Kalam',\n",
       " 'Speech',\n",
       " 'In',\n",
       " 'School',\n",
       " 'for',\n",
       " 'students',\n",
       " 'of',\n",
       " 'class',\n",
       " '5th',\n",
       " 'and',\n",
       " 'above',\n",
       " 'while',\n",
       " 'the',\n",
       " 'third',\n",
       " 'one',\n",
       " 'is',\n",
       " '10',\n",
       " 'lines',\n",
       " 'About',\n",
       " 'Abdul',\n",
       " 'Kalam',\n",
       " 'Speech',\n",
       " 'for',\n",
       " 'students',\n",
       " 'of',\n",
       " 'Class',\n",
       " '1',\n",
       " 'and',\n",
       " 'above',\n",
       " 'for',\n",
       " 'easier',\n",
       " 'understanding',\n",
       " '.']"
      ]
     },
     "execution_count": 6,
     "metadata": {},
     "output_type": "execute_result"
    }
   ],
   "source": [
    "words"
   ]
  },
  {
   "cell_type": "code",
   "execution_count": null,
   "metadata": {},
   "outputs": [],
   "source": []
  }
 ],
 "metadata": {
  "kernelspec": {
   "display_name": "base",
   "language": "python",
   "name": "python3"
  },
  "language_info": {
   "codemirror_mode": {
    "name": "ipython",
    "version": 3
   },
   "file_extension": ".py",
   "mimetype": "text/x-python",
   "name": "python",
   "nbconvert_exporter": "python",
   "pygments_lexer": "ipython3",
   "version": "3.9.12"
  },
  "orig_nbformat": 4,
  "vscode": {
   "interpreter": {
    "hash": "ad2bdc8ecc057115af97d19610ffacc2b4e99fae6737bb82f5d7fb13d2f2c186"
   }
  }
 },
 "nbformat": 4,
 "nbformat_minor": 2
}
