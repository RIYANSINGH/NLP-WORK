{
 "cells": [
  {
   "cell_type": "code",
   "execution_count": 1,
   "metadata": {},
   "outputs": [],
   "source": [
    "from tensorflow.keras.preprocessing.text import one_hot\n"
   ]
  },
  {
   "cell_type": "code",
   "execution_count": 2,
   "metadata": {},
   "outputs": [],
   "source": [
    "sent=['the glass of  milk', 'the glass of juice','the cup of tea','i am good boy','i am i good developer','understand the meaning of words','your videos are good']"
   ]
  },
  {
   "cell_type": "code",
   "execution_count": 3,
   "metadata": {},
   "outputs": [
    {
     "data": {
      "text/plain": [
       "['the glass of  milk',\n",
       " 'the glass of juice',\n",
       " 'the cup of tea',\n",
       " 'i am good boy',\n",
       " 'i am i good developer',\n",
       " 'understand the meaning of words',\n",
       " 'your videos are good']"
      ]
     },
     "execution_count": 3,
     "metadata": {},
     "output_type": "execute_result"
    }
   ],
   "source": [
    "sent"
   ]
  },
  {
   "cell_type": "code",
   "execution_count": 5,
   "metadata": {},
   "outputs": [],
   "source": [
    "# giving vocabolary size\n",
    "voc_size=10000"
   ]
  },
  {
   "cell_type": "code",
   "execution_count": 8,
   "metadata": {},
   "outputs": [
    {
     "name": "stdout",
     "output_type": "stream",
     "text": [
      "[[8608, 8089, 9431, 2426], [8608, 8089, 9431, 2819], [8608, 9927, 9431, 7066], [1278, 6804, 9707, 1690], [1278, 6804, 1278, 9707, 9860], [7009, 8608, 3681, 9431, 2289], [2841, 4120, 5177, 9707]]\n"
     ]
    }
   ],
   "source": [
    "# one hot representation\n",
    "onehot_repr=[one_hot(words,voc_size)for words in sent]\n",
    "print(onehot_repr)"
   ]
  },
  {
   "attachments": {},
   "cell_type": "markdown",
   "metadata": {},
   "source": [
    "# word embedding representation"
   ]
  },
  {
   "cell_type": "code",
   "execution_count": 14,
   "metadata": {},
   "outputs": [],
   "source": [
    "from tensorflow.keras.layers import Embedding\n",
    "from tensorflow.keras.preprocessing.sequence import pad_sequences\n",
    "from tensorflow.keras.models import Sequential"
   ]
  },
  {
   "cell_type": "code",
   "execution_count": 15,
   "metadata": {},
   "outputs": [],
   "source": [
    "import numpy as np"
   ]
  },
  {
   "cell_type": "code",
   "execution_count": 17,
   "metadata": {},
   "outputs": [
    {
     "name": "stdout",
     "output_type": "stream",
     "text": [
      "[[   0    0    0    0 8608 8089 9431 2426]\n",
      " [   0    0    0    0 8608 8089 9431 2819]\n",
      " [   0    0    0    0 8608 9927 9431 7066]\n",
      " [   0    0    0    0 1278 6804 9707 1690]\n",
      " [   0    0    0 1278 6804 1278 9707 9860]\n",
      " [   0    0    0 7009 8608 3681 9431 2289]\n",
      " [   0    0    0    0 2841 4120 5177 9707]]\n"
     ]
    }
   ],
   "source": [
    "sent_length=8\n",
    "embedding_docs=pad_sequences(onehot_repr,padding='pre',maxlen=sent_length)\n",
    "print(embedding_docs)"
   ]
  },
  {
   "cell_type": "code",
   "execution_count": null,
   "metadata": {},
   "outputs": [],
   "source": []
  }
 ],
 "metadata": {
  "kernelspec": {
   "display_name": "base",
   "language": "python",
   "name": "python3"
  },
  "language_info": {
   "codemirror_mode": {
    "name": "ipython",
    "version": 3
   },
   "file_extension": ".py",
   "mimetype": "text/x-python",
   "name": "python",
   "nbconvert_exporter": "python",
   "pygments_lexer": "ipython3",
   "version": "3.9.12"
  },
  "orig_nbformat": 4
 },
 "nbformat": 4,
 "nbformat_minor": 2
}
